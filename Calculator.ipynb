{
  "nbformat": 4,
  "nbformat_minor": 0,
  "metadata": {
    "colab": {
      "provenance": []
    },
    "kernelspec": {
      "name": "python3",
      "display_name": "Python 3"
    },
    "language_info": {
      "name": "python"
    }
  },
  "cells": [
    {
      "cell_type": "markdown",
      "source": [
        "# **Task 2**"
      ],
      "metadata": {
        "id": "U6oMq8AZ_HBv"
      }
    },
    {
      "cell_type": "markdown",
      "source": [
        "## CALCULATOR\n",
        "\n",
        "> Design a simple calculator with basic arithmetic operations.\n",
        "Prompt the user to input two numbers and an operation choice.\n",
        "Perform the calculation and display the result.\n",
        "\n"
      ],
      "metadata": {
        "id": "s67c-CMG_Nq6"
      }
    },
    {
      "cell_type": "markdown",
      "source": [
        "### Created By\n",
        "\n",
        "> Divyansh Trivedi - https://www.linkedin.com/in/divyansh-trivedi-/"
      ],
      "metadata": {
        "id": "DNiCX_-kAR1b"
      }
    },
    {
      "cell_type": "code",
      "execution_count": 4,
      "metadata": {
        "colab": {
          "base_uri": "https://localhost:8080/"
        },
        "id": "_6yfwggk-8ji",
        "outputId": "20a9d73e-731b-49bf-e8f0-424635c9c8c8"
      },
      "outputs": [
        {
          "output_type": "stream",
          "name": "stdout",
          "text": [
            "Simple Calculator\n",
            "Operations:\n",
            "1. Addition\n",
            "2. Subtraction\n",
            "3. Multiplication\n",
            "4. Division\n",
            "Enter the first number: 12\n",
            "Enter the second number: 14\n",
            "Enter operation choice (1/2/3/4): 4\n",
            "Result: 0.8571428571428571\n"
          ]
        }
      ],
      "source": [
        "def add(a, b):\n",
        "    return a + b\n",
        "\n",
        "def subtract(a, b):\n",
        "    return a - b\n",
        "\n",
        "def multiply(a, b):\n",
        "    return a * b\n",
        "\n",
        "def divide(a, b):\n",
        "    if b != 0:\n",
        "        return a / b\n",
        "    else:\n",
        "        return \"Cannot divide by zero.\"\n",
        "\n",
        "def calculator():\n",
        "    print(\"Simple Calculator\")\n",
        "    print(\"Operations:\")\n",
        "    print(\"1. Addition\")\n",
        "    print(\"2. Subtraction\")\n",
        "    print(\"3. Multiplication\")\n",
        "    print(\"4. Division\")\n",
        "\n",
        "    while True:\n",
        "        try:\n",
        "            num1 = float(input(\"Enter the first number: \"))\n",
        "            num2 = float(input(\"Enter the second number: \"))\n",
        "            choice = int(input(\"Enter operation choice (1/2/3/4): \"))\n",
        "\n",
        "            if choice == 1:\n",
        "                result = add(num1, num2)\n",
        "            elif choice == 2:\n",
        "                result = subtract(num1, num2)\n",
        "            elif choice == 3:\n",
        "                result = multiply(num1, num2)\n",
        "            elif choice == 4:\n",
        "                result = divide(num1, num2)\n",
        "            else:\n",
        "                print(\"Invalid choice. Please enter a valid operation choice.\")\n",
        "                continue\n",
        "\n",
        "            print(f\"Result: {result}\")\n",
        "            break\n",
        "\n",
        "        except ValueError:\n",
        "            print(\"Invalid input. Please enter valid numbers.\")\n",
        "\n",
        "if __name__ == \"__main__\":\n",
        "    calculator()"
      ]
    }
  ]
}