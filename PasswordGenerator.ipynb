{
  "nbformat": 4,
  "nbformat_minor": 0,
  "metadata": {
    "colab": {
      "provenance": []
    },
    "kernelspec": {
      "name": "python3",
      "display_name": "Python 3"
    },
    "language_info": {
      "name": "python"
    }
  },
  "cells": [
    {
      "cell_type": "markdown",
      "source": [
        "# **Task 3**"
      ],
      "metadata": {
        "id": "Wx88gwnSIMcn"
      }
    },
    {
      "cell_type": "markdown",
      "source": [
        "## PASSWORD GENERATOR\n",
        "\n",
        "> A password generator is a useful tool that generates strong and\n",
        "random passwords for users. This project aims to create a\n",
        "password generator application using Python, allowing users to\n",
        "specify the length and complexity of the password.\n",
        "\n",
        "\n",
        "> **User Input:** Prompt the user to specify the desired length of the\n",
        "password.\n",
        "\n",
        "\n",
        "> **Generate Password:** Use a combination of random characters to generate a password of the specified length.\n",
        "\n",
        "\n",
        "> **Display the Password:** Print the generated password on the screen.\n",
        "\n"
      ],
      "metadata": {
        "id": "OGtV1LJ-IO5G"
      }
    },
    {
      "cell_type": "markdown",
      "source": [
        "### Created By\n",
        "\n",
        "> Divyansh Trivedi - https://www.linkedin.com/in/divyansh-trivedi-/"
      ],
      "metadata": {
        "id": "6kqwHO13IXP6"
      }
    },
    {
      "cell_type": "code",
      "execution_count": 4,
      "metadata": {
        "colab": {
          "base_uri": "https://localhost:8080/"
        },
        "id": "Y7dNYIoBILlG",
        "outputId": "2875f8e1-8333-4882-e303-1d62466a3ad5"
      },
      "outputs": [
        {
          "output_type": "stream",
          "name": "stdout",
          "text": [
            "Password Generator\n",
            "Enter the desired password length: 0\n",
            "Password length should be greater than zero.\n",
            "Enter the desired password length: -1\n",
            "Password length should be greater than zero.\n",
            "Enter the desired password length: 5\n",
            "Generated Password: {,X_-\n"
          ]
        }
      ],
      "source": [
        "import random\n",
        "import string\n",
        "\n",
        "def generate_password(length):\n",
        "    characters = string.ascii_letters + string.digits + string.punctuation\n",
        "    password = ''.join(random.choice(characters) for _ in range(length))\n",
        "    return password\n",
        "\n",
        "def main():\n",
        "    print(\"Password Generator\")\n",
        "    while True:\n",
        "        try:\n",
        "            length = int(input(\"Enter the desired password length: \"))\n",
        "            if length <= 0:\n",
        "                print(\"Password length should be greater than zero.\")\n",
        "            else:\n",
        "                password = generate_password(length)\n",
        "                print(f\"Generated Password: {password}\")\n",
        "                break\n",
        "        except ValueError:\n",
        "            print(\"Invalid input. Please enter a valid number.\")\n",
        "\n",
        "if __name__ == \"__main__\":\n",
        "    main()"
      ]
    }
  ]
}