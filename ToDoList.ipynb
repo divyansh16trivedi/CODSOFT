{
  "nbformat": 4,
  "nbformat_minor": 0,
  "metadata": {
    "colab": {
      "provenance": []
    },
    "kernelspec": {
      "name": "python3",
      "display_name": "Python 3"
    },
    "language_info": {
      "name": "python"
    }
  },
  "cells": [
    {
      "cell_type": "markdown",
      "source": [
        "# **Task 1**\n",
        "\n",
        "\n"
      ],
      "metadata": {
        "id": "R3STyWDSakxj"
      }
    },
    {
      "cell_type": "markdown",
      "source": [
        "## TO-DO LIST\n",
        "\n",
        "> A **To-Do List application** is a useful project that helps users manage\n",
        "and organize their tasks efficiently. This project aims to create a\n",
        "command-line or GUI-based application using Python, allowing\n",
        "users to create, update, and track their to-do lists\n",
        "\n"
      ],
      "metadata": {
        "id": "XDGK_BN3azw-"
      }
    },
    {
      "cell_type": "markdown",
      "source": [
        "### Created By\n",
        "\n",
        "> Divyansh Trivedi - https://www.linkedin.com/in/divyansh-trivedi-744b26131/\n",
        "\n"
      ],
      "metadata": {
        "id": "IxS2dJwDds00"
      }
    },
    {
      "cell_type": "code",
      "source": [
        "import os\n",
        "import json\n",
        "\n",
        "# File to store the tasks\n",
        "TASKS_FILE = \"tasks.json\"\n",
        "\n",
        "def load_tasks():\n",
        "    if os.path.exists(TASKS_FILE):\n",
        "        with open(TASKS_FILE, \"r\") as file:\n",
        "            return json.load(file)\n",
        "    return []\n",
        "\n",
        "def save_tasks(tasks):\n",
        "    with open(TASKS_FILE, \"w\") as file:\n",
        "        json.dump(tasks, file)\n",
        "\n",
        "def add_task(tasks, task_description):\n",
        "    tasks.append({\"description\": task_description, \"completed\": False})\n",
        "\n",
        "def view_tasks(tasks):\n",
        "    if not tasks:\n",
        "        print(\"No tasks found.\")\n",
        "        return\n",
        "    for index, task in enumerate(tasks, start=1):\n",
        "        status = \"✓\" if task[\"completed\"] else \" \"\n",
        "        print(f\"{index}. [{status}] {task['description']}\")\n",
        "\n",
        "def complete_task(tasks, task_index):\n",
        "    if 1 <= task_index <= len(tasks):\n",
        "        tasks[task_index - 1][\"completed\"] = True\n",
        "    else:\n",
        "        print(\"Invalid task index.\")\n",
        "\n",
        "def delete_task(tasks, task_index):\n",
        "    if 1 <= task_index <= len(tasks):\n",
        "        del tasks[task_index - 1]\n",
        "    else:\n",
        "        print(\"Invalid task index.\")\n",
        "\n",
        "def main():\n",
        "    tasks = load_tasks()\n",
        "    while True:\n",
        "        print(\"\\n--- To-Do List ---\")\n",
        "        print(\"1. View Tasks\")\n",
        "        print(\"2. Add Task\")\n",
        "        print(\"3. Complete Task\")\n",
        "        print(\"4. Delete Task\")\n",
        "        print(\"5. Exit\")\n",
        "        choice = input(\"Enter your choice: \")\n",
        "\n",
        "        if choice == \"1\":\n",
        "            view_tasks(tasks)\n",
        "        elif choice == \"2\":\n",
        "            task_description = input(\"Enter task description: \")\n",
        "            add_task(tasks, task_description)\n",
        "            save_tasks(tasks)\n",
        "        elif choice == \"3\":\n",
        "            view_tasks(tasks)\n",
        "            task_index = int(input(\"Enter the task number to complete: \"))\n",
        "            complete_task(tasks, task_index)\n",
        "            save_tasks(tasks)\n",
        "        elif choice == \"4\":\n",
        "            view_tasks(tasks)\n",
        "            task_index = int(input(\"Enter the task number to delete: \"))\n",
        "            delete_task(tasks, task_index)\n",
        "            save_tasks(tasks)\n",
        "        elif choice == \"5\":\n",
        "            print(\"Exiting.\")\n",
        "            break\n",
        "        else:\n",
        "            print(\"Invalid choice. Please try again.\")\n",
        "\n",
        "if __name__ == \"__main__\":\n",
        "    main()"
      ],
      "metadata": {
        "colab": {
          "base_uri": "https://localhost:8080/"
        },
        "id": "FxshXpg3VbiR",
        "outputId": "4cd15a68-348f-427e-da48-fa58a1966917"
      },
      "execution_count": 4,
      "outputs": [
        {
          "output_type": "stream",
          "name": "stdout",
          "text": [
            "\n",
            "--- To-Do List ---\n",
            "1. View Tasks\n",
            "2. Add Task\n",
            "3. Complete Task\n",
            "4. Delete Task\n",
            "5. Exit\n",
            "Enter your choice: 1\n",
            "1. [ ] Python Task 1\n",
            "\n",
            "--- To-Do List ---\n",
            "1. View Tasks\n",
            "2. Add Task\n",
            "3. Complete Task\n",
            "4. Delete Task\n",
            "5. Exit\n",
            "Enter your choice: 3\n",
            "1. [ ] Python Task 1\n",
            "Enter the task number to complete: 1\n",
            "\n",
            "--- To-Do List ---\n",
            "1. View Tasks\n",
            "2. Add Task\n",
            "3. Complete Task\n",
            "4. Delete Task\n",
            "5. Exit\n",
            "Enter your choice: 1\n",
            "1. [✓] Python Task 1\n",
            "\n",
            "--- To-Do List ---\n",
            "1. View Tasks\n",
            "2. Add Task\n",
            "3. Complete Task\n",
            "4. Delete Task\n",
            "5. Exit\n",
            "Enter your choice: 4\n",
            "1. [✓] Python Task 1\n",
            "Enter the task number to delete: 1\n",
            "\n",
            "--- To-Do List ---\n",
            "1. View Tasks\n",
            "2. Add Task\n",
            "3. Complete Task\n",
            "4. Delete Task\n",
            "5. Exit\n",
            "Enter your choice: 1\n",
            "No tasks found.\n",
            "\n",
            "--- To-Do List ---\n",
            "1. View Tasks\n",
            "2. Add Task\n",
            "3. Complete Task\n",
            "4. Delete Task\n",
            "5. Exit\n",
            "Enter your choice: 5\n",
            "Exiting.\n"
          ]
        }
      ]
    }
  ]
}